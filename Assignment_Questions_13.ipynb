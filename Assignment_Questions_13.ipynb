{
  "nbformat": 4,
  "nbformat_minor": 0,
  "metadata": {
    "colab": {
      "provenance": [],
      "authorship_tag": "ABX9TyMCZL8p0adthAuk11M3htkZ",
      "include_colab_link": true
    },
    "kernelspec": {
      "name": "python3",
      "display_name": "Python 3"
    },
    "language_info": {
      "name": "python"
    }
  },
  "cells": [
    {
      "cell_type": "markdown",
      "metadata": {
        "id": "view-in-github",
        "colab_type": "text"
      },
      "source": [
        "<a href=\"https://colab.research.google.com/github/CAPTAINY2/Assignment-13---Linked-List-/blob/main/Assignment_Questions_13.ipynb\" target=\"_parent\"><img src=\"https://colab.research.google.com/assets/colab-badge.svg\" alt=\"Open In Colab\"/></a>"
      ]
    },
    {
      "cell_type": "markdown",
      "source": [
        "### QUESTION-1"
      ],
      "metadata": {
        "id": "1wR6fMj2GxO9"
      }
    },
    {
      "cell_type": "code",
      "source": [
        "class Node:\n",
        "    def __init__(self, value=None):\n",
        "        self.value = value\n",
        "        self.next = None\n",
        "\n",
        "\n",
        "def create_list(list1, list2):\n",
        "    if not list1 or not list2:\n",
        "        return None\n",
        "\n",
        "    new_head = None\n",
        "    new_tail = None\n",
        "\n",
        "    while list1 is not None and list2 is not None:\n",
        "        new_node_value = max(list1.value, list2.value)\n",
        "        new_node = Node(new_node_value)\n",
        "\n",
        "        if new_head is None:\n",
        "            new_head = new_node\n",
        "            new_tail = new_node\n",
        "        else:\n",
        "            new_tail.next = new_node\n",
        "            new_tail = new_node\n",
        "\n",
        "        list1 = list1.next\n",
        "        list2 = list2.next\n",
        "\n",
        "    return new_head\n",
        "\n",
        "list1 = Node(5)\n",
        "list1.next = Node(2)\n",
        "list1.next.next = Node(3)\n",
        "list1.next.next.next = Node(8)\n",
        "\n",
        "list2 = Node(1)\n",
        "list2.next = Node(7)\n",
        "list2.next.next = Node(4)\n",
        "list2.next.next.next = Node(5)\n",
        "\n",
        "new_list1 = create_list(list1, list2)\n",
        "print(\"Output 1: \")\n",
        "current1 = new_list1\n",
        "while current1 is not None:\n",
        "    print( current1.value, end=\"->\")\n",
        "    current1 = current1.next\n",
        "\n"
      ],
      "metadata": {
        "id": "yvOoxcR7HbYw",
        "colab": {
          "base_uri": "https://localhost:8080/"
        },
        "outputId": "575993ad-bf0e-47e3-8e93-3a7c157dd5bf"
      },
      "execution_count": 1,
      "outputs": [
        {
          "output_type": "stream",
          "name": "stdout",
          "text": [
            "Output 1: \n",
            "5->7->4->8->"
          ]
        }
      ]
    },
    {
      "cell_type": "code",
      "source": [
        "class Node:\n",
        "    def __init__(self, value=None):\n",
        "        self.value = value\n",
        "        self.next = None\n",
        "\n",
        "\n",
        "def create_list(list1, list2):\n",
        "    if not list1 or not list2:\n",
        "        return None\n",
        "\n",
        "    new_head = None\n",
        "    new_tail = None\n",
        "\n",
        "    while list1 is not None and list2 is not None:\n",
        "        new_node_value = max(list1.value, list2.value)\n",
        "        new_node = Node(new_node_value)\n",
        "\n",
        "        if new_head is None:\n",
        "            new_head = new_node\n",
        "            new_tail = new_node\n",
        "        else:\n",
        "            new_tail.next = new_node\n",
        "            new_tail = new_node\n",
        "\n",
        "        list1 = list1.next\n",
        "        list2 = list2.next\n",
        "\n",
        "    return new_head\n",
        "\n",
        "list1 = Node(2)\n",
        "list1.next = Node(8)\n",
        "list1.next.next = Node(9)\n",
        "list1.next.next.next = Node(3)\n",
        "\n",
        "list2 = Node(5)\n",
        "list2.next = Node(3)\n",
        "list2.next.next = Node(6)\n",
        "list2.next.next.next = Node(4)\n",
        "\n",
        "new_list1 = create_list(list1, list2)\n",
        "print(\"Output 2: \")\n",
        "current1 = new_list1\n",
        "while current1 is not None:\n",
        "    print( current1.value, end=\"->\")\n",
        "    current1 = current1.next\n",
        "\n"
      ],
      "metadata": {
        "colab": {
          "base_uri": "https://localhost:8080/"
        },
        "id": "EXi9WM3pu_r8",
        "outputId": "27eb25a6-ade6-4309-d5c5-07ab799c4389"
      },
      "execution_count": 3,
      "outputs": [
        {
          "output_type": "stream",
          "name": "stdout",
          "text": [
            "Output 2: \n",
            "5->8->9->4->"
          ]
        }
      ]
    },
    {
      "cell_type": "markdown",
      "source": [
        "### QUESTION-2"
      ],
      "metadata": {
        "id": "9uYiX4csG3VR"
      }
    },
    {
      "cell_type": "code",
      "source": [
        "class Node:\n",
        "    def __init__(self, data=None):\n",
        "        self.data = data\n",
        "        self.next = None\n",
        "\n",
        "def remove_duplicates(head):\n",
        "    if not head:\n",
        "        return None\n",
        "    current = head\n",
        "\n",
        "    while current and current.next:\n",
        "        if current.data == current.next.data:\n",
        "            current.next = current.next.next\n",
        "        else:\n",
        "            current = current.next\n",
        "\n",
        "    return head\n",
        "\n",
        "def print_linked_list(head):\n",
        "    current = head\n",
        "    while current:\n",
        "        print(current.data, end=\"->\")\n",
        "        current = current.next\n",
        "    print()\n",
        "\n",
        "node1 = Node(11)\n",
        "node2 = Node(11)\n",
        "node3 = Node(11)\n",
        "node4 = Node(21)\n",
        "node5 = Node(43)\n",
        "node6 = Node(43)\n",
        "node7 = Node(60)\n",
        "node1.next = node2\n",
        "node2.next = node3\n",
        "node3.next = node4\n",
        "node4.next = node5\n",
        "node5.next = node6\n",
        "node6.next = node7\n",
        "\n",
        "print(\"Original Linked List 1:\")\n",
        "print_linked_list(node1)\n",
        "\n",
        "new_list = remove_duplicates(node1)\n",
        "\n",
        "print(\"Modified Linked List 1:\")\n",
        "print_linked_list(new_list)\n",
        "\n",
        "\n",
        "node11 = Node(10)\n",
        "node21 = Node(12)\n",
        "node31 = Node(12)\n",
        "node41 = Node(25)\n",
        "node51 = Node(25)\n",
        "node61 = Node(25)\n",
        "node71 = Node(34)\n",
        "node11.next = node21\n",
        "node21.next = node31\n",
        "node31.next = node41\n",
        "node41.next = node51\n",
        "node51.next = node61\n",
        "node61.next = node71\n",
        "\n",
        "print(\"Original Linked List 2:\")\n",
        "print_linked_list(node11)\n",
        "\n",
        "new_list1 = remove_duplicates(node11)\n",
        "\n",
        "print(\"Modified Linked List 2:\")\n",
        "print_linked_list(new_list1)\n"
      ],
      "metadata": {
        "colab": {
          "base_uri": "https://localhost:8080/"
        },
        "id": "q3DmbN9n0Isc",
        "outputId": "8ad766ac-bfa2-4ab9-8e66-9d8bd498bce9"
      },
      "execution_count": 8,
      "outputs": [
        {
          "output_type": "stream",
          "name": "stdout",
          "text": [
            "Original Linked List 1:\n",
            "11->11->11->21->43->43->60->\n",
            "Modified Linked List 1:\n",
            "11->21->43->60->\n",
            "Original Linked List 2:\n",
            "10->12->12->25->25->25->34->\n",
            "Modified Linked List 2:\n",
            "10->12->25->34->\n"
          ]
        }
      ]
    },
    {
      "cell_type": "markdown",
      "source": [
        "### QUESTION-3"
      ],
      "metadata": {
        "id": "AGsK3F5PG9a0"
      }
    },
    {
      "cell_type": "code",
      "source": [
        "class Node:\n",
        "    def __init__(self, data=None):\n",
        "        self.data = data\n",
        "        self.next = None\n",
        "\n",
        "def reverse_k_nodes(head, k):\n",
        "    if not head or k == 0 or k == 1:\n",
        "        return head\n",
        "\n",
        "    current = head\n",
        "    prev = None\n",
        "    next = None\n",
        "\n",
        "    count = 0\n",
        "    temp = head\n",
        "    while temp:\n",
        "        count += 1\n",
        "        temp = temp.next\n",
        "\n",
        "    if count >= k:\n",
        "        count = 0\n",
        "        while count < k and current:\n",
        "            next = current.next\n",
        "            current.next = prev\n",
        "            prev = current\n",
        "            current = next\n",
        "            count += 1\n",
        "\n",
        "    if next:\n",
        "        head.next = reverse_k_nodes(next, k)\n",
        "\n",
        "    return prev\n",
        "\n",
        "def print_linked_list(head):\n",
        "    current = head\n",
        "    while current:\n",
        "        print(current.data, end=\"->\")\n",
        "        current = current.next\n",
        "    print()\n",
        "\n",
        "node1 = Node(1)\n",
        "node2 = Node(2)\n",
        "node3 = Node(2)\n",
        "node4 = Node(4)\n",
        "node5 = Node(5)\n",
        "node6 = Node(6)\n",
        "node7 = Node(7)\n",
        "node8 = Node(8)\n",
        "node1.next = node2\n",
        "node2.next = node3\n",
        "node3.next = node4\n",
        "node4.next = node5\n",
        "node5.next = node6\n",
        "node6.next = node7\n",
        "node7.next = node8\n",
        "\n",
        "print(\"Original Linked List:\")\n",
        "print_linked_list(node1)\n",
        "\n",
        "k = 4\n",
        "new_list = reverse_k_nodes(node1, k)\n",
        "\n",
        "print(\"Modified Linked List:\")\n",
        "print_linked_list(new_list)\n",
        "\n",
        "\n",
        "node11 = Node(1)\n",
        "node12 = Node(2)\n",
        "node13 = Node(3)\n",
        "node14 = Node(4)\n",
        "node15 = Node(5)\n",
        "node11.next = node12\n",
        "node12.next = node13\n",
        "node13.next = node14\n",
        "node14.next = node15\n",
        "\n",
        "print(\"Original Linked List 2:\")\n",
        "print_linked_list(node11)\n",
        "\n",
        "new_list1 = reverse_k_nodes(node11, 3)\n",
        "\n",
        "print(\"Modified Linked List 2:\")\n",
        "print_linked_list(new_list1)\n"
      ],
      "metadata": {
        "colab": {
          "base_uri": "https://localhost:8080/"
        },
        "id": "87x3Bfmk1G4h",
        "outputId": "50d12e14-cc71-4689-ffd0-6588f76178a2"
      },
      "execution_count": 17,
      "outputs": [
        {
          "output_type": "stream",
          "name": "stdout",
          "text": [
            "Original Linked List:\n",
            "1->2->2->4->5->6->7->8->\n",
            "Modified Linked List:\n",
            "4->2->2->1->8->7->6->5->\n",
            "Original Linked List 2:\n",
            "1->2->3->4->5->\n",
            "Modified Linked List 2:\n",
            "3->2->1->\n"
          ]
        }
      ]
    },
    {
      "cell_type": "markdown",
      "source": [
        "### QUESTION-4"
      ],
      "metadata": {
        "id": "Aa74uwzfG_Cp"
      }
    },
    {
      "cell_type": "code",
      "source": [
        "class Node:\n",
        "    def __init__(self, data=None):\n",
        "        self.data = data\n",
        "        self.next = None\n",
        "\n",
        "def k_nodes(head, k):\n",
        "    if not head or k <= 1:\n",
        "        return head\n",
        "\n",
        "    prev_node = None\n",
        "    current_node = head\n",
        "    next_node = None\n",
        "    count = 0\n",
        "\n",
        "    while current_node and count < k:\n",
        "        next_node = current_node.next\n",
        "        current_node.next = prev_node\n",
        "        prev_node = current_node\n",
        "        current_node = next_node\n",
        "        count += 1\n",
        "\n",
        "    if next_node:\n",
        "        head.next = k_nodes(next_node, k)\n",
        "\n",
        "    count = 0\n",
        "    while current_node and count < k:\n",
        "        current_node = current_node.next\n",
        "        count += 1\n",
        "\n",
        "    if current_node:\n",
        "        current_node.next = k_nodes(current_node.next, k)\n",
        "\n",
        "    return prev_node\n",
        "\n",
        "def linked_list(head):\n",
        "    current = head\n",
        "    while current:\n",
        "        print(current.data, end=\"->\" )\n",
        "        current = current.next\n",
        "    print()\n",
        "\n",
        "node1 = Node(1)\n",
        "node2 = Node(2)\n",
        "node3 = Node(3)\n",
        "node4 = Node(4)\n",
        "node5 = Node(5)\n",
        "node6 = Node(6)\n",
        "node7 = Node(7)\n",
        "node8 = Node(8)\n",
        "node9 = Node(9)\n",
        "node1.next = node2\n",
        "node2.next = node3\n",
        "node3.next = node4\n",
        "node4.next = node5\n",
        "node5.next = node6\n",
        "node6.next = node7\n",
        "node7.next = node8\n",
        "node8.next = node9\n",
        "\n",
        "print(\"Original Linked List:\")\n",
        "linked_list(node1)\n",
        "\n",
        "new_list = k_nodes(node1, 3)\n",
        "\n",
        "print(\"Modified Linked List:\")\n",
        "linked_list(new_list)\n"
      ],
      "metadata": {
        "colab": {
          "base_uri": "https://localhost:8080/"
        },
        "id": "2YAl4qYs4j3S",
        "outputId": "4b89aa8a-3020-4e84-cfee-8dec813c8cff"
      },
      "execution_count": 31,
      "outputs": [
        {
          "output_type": "stream",
          "name": "stdout",
          "text": [
            "Original Linked List:\n",
            "1->2->3->4->5->6->7->8->9->\n",
            "Modified Linked List:\n",
            "3->2->1->6->5->4->9->8->7->\n"
          ]
        }
      ]
    },
    {
      "cell_type": "markdown",
      "source": [
        "### QUESTION-5"
      ],
      "metadata": {
        "id": "_3cS6za7HAzI"
      }
    },
    {
      "cell_type": "code",
      "source": [
        "class Node:\n",
        "    def __init__(self, data=None):\n",
        "        self.data = data\n",
        "        self.next = None\n",
        "\n",
        "def delete_last(head, key):\n",
        "    if not head:\n",
        "        return head\n",
        "\n",
        "    current = head\n",
        "    prev = None\n",
        "    last = None\n",
        "    prev_last = None\n",
        "\n",
        "    while current:\n",
        "        if current.data == key:\n",
        "            prev_last = prev\n",
        "            last = current\n",
        "\n",
        "        prev = current\n",
        "        current = current.next\n",
        "\n",
        "    if not last:\n",
        "        return head\n",
        "\n",
        "    if last == head:\n",
        "        head = head.next\n",
        "    else:\n",
        "        prev_last.next = last.next\n",
        "\n",
        "    last.next = None\n",
        "\n",
        "    return head\n",
        "\n",
        "def linked_list(head):\n",
        "    current = head\n",
        "    while current:\n",
        "        print(current.data, end=\"->\")\n",
        "        current = current.next\n",
        "    print()\n",
        "\n",
        "node1 = Node(1)\n",
        "node2 = Node(2)\n",
        "node3 = Node(3)\n",
        "node4 = Node(5)\n",
        "node5 = Node(2)\n",
        "node6 = Node(10)\n",
        "node1.next = node2\n",
        "node2.next = node3\n",
        "node3.next = node4\n",
        "node4.next = node5\n",
        "node5.next = node6\n",
        "\n",
        "\n",
        "print(\"Original Linked List:\")\n",
        "linked_list(node1)\n",
        "\n",
        "new_list = delete_last(node1, 2)\n",
        "\n",
        "print(\"Modified Linked List:\")\n",
        "linked_list(new_list)\n"
      ],
      "metadata": {
        "colab": {
          "base_uri": "https://localhost:8080/"
        },
        "id": "QoGYrQjf60hF",
        "outputId": "5230bb86-c91a-42d0-eb49-a67928b03a4b"
      },
      "execution_count": 33,
      "outputs": [
        {
          "output_type": "stream",
          "name": "stdout",
          "text": [
            "Original Linked List:\n",
            "1->2->3->5->2->10->\n",
            "Modified Linked List:\n",
            "1->2->3->5->10->\n"
          ]
        }
      ]
    },
    {
      "cell_type": "markdown",
      "source": [
        "### QUESTION-6"
      ],
      "metadata": {
        "id": "j0LFgC-HHCxs"
      }
    },
    {
      "cell_type": "code",
      "source": [
        "class Node:\n",
        "    def __init__(self, data=None):\n",
        "        self.data = data\n",
        "        self.next = None\n",
        "\n",
        "def merge_sorted_lists(list1, list2):\n",
        "    dummy = Node()\n",
        "    merged = dummy\n",
        "\n",
        "    while list1 and list2:\n",
        "        if list1.data <= list2.data:\n",
        "            merged.next = list1\n",
        "            list1 = list1.next\n",
        "        else:\n",
        "            merged.next = list2\n",
        "            list2 = list2.next\n",
        "        merged = merged.next\n",
        "\n",
        "    if list1:\n",
        "        merged.next = list1\n",
        "    if list2:\n",
        "        merged.next = list2\n",
        "\n",
        "    return dummy.next\n",
        "\n",
        "def print_linked_list(head):\n",
        "    current = head\n",
        "    while current:\n",
        "        print(current.data, end=\"->\")\n",
        "        current = current.next\n",
        "    print()\n",
        "\n",
        "a1 = Node(5)\n",
        "a2 = Node(10)\n",
        "a3 = Node(15)\n",
        "a1.next = a2\n",
        "a2.next = a3\n",
        "\n",
        "b1 = Node(2)\n",
        "b2 = Node(3)\n",
        "b3 = Node(20)\n",
        "b1.next = b2\n",
        "b2.next = b3\n",
        "\n",
        "print(\"Original Linked List 1 (a):\")\n",
        "print_linked_list(a1)\n",
        "print(\"Original Linked List 1 (b):\")\n",
        "print_linked_list(b1)\n",
        "\n",
        "merged_list = merge_sorted_lists(a1, b1)\n",
        "\n",
        "print(\"Merged Output 1:\")\n",
        "print_linked_list(merged_list)\n",
        "\n",
        "\n",
        "\n",
        "c1 = Node(1)\n",
        "c2 = Node(1)\n",
        "c1.next = c2\n",
        "\n",
        "d1 = Node(2)\n",
        "d2 = Node(4)\n",
        "d1.next = d2\n",
        "\n",
        "print(\"Original Linked List 2 (c):\")\n",
        "print_linked_list(c1)\n",
        "print(\"Original Linked List 2 (d):\")\n",
        "print_linked_list(d1)\n",
        "\n",
        "merged_list2 = merge_sorted_lists(c1, d1)\n",
        "\n",
        "print(\"Merged Output 2:\")\n",
        "print_linked_list(merged_list2)\n"
      ],
      "metadata": {
        "colab": {
          "base_uri": "https://localhost:8080/"
        },
        "id": "hQP-QB64_PAC",
        "outputId": "83420e0c-2336-4ac2-bebe-5ec96e0dca13"
      },
      "execution_count": 38,
      "outputs": [
        {
          "output_type": "stream",
          "name": "stdout",
          "text": [
            "Original Linked List 1 (a):\n",
            "5->10->15->\n",
            "Original Linked List 1 (b):\n",
            "2->3->20->\n",
            "Merged Output 1:\n",
            "2->3->5->10->15->20->\n",
            "Original Linked List 2 (c):\n",
            "1->1->\n",
            "Original Linked List 2 (d):\n",
            "2->4->\n",
            "Merged Output 2:\n",
            "1->1->2->4->\n"
          ]
        }
      ]
    },
    {
      "cell_type": "markdown",
      "source": [
        "### QUESTION-7"
      ],
      "metadata": {
        "id": "daruoLq0HFEN"
      }
    },
    {
      "cell_type": "code",
      "source": [
        "class Node:\n",
        "    def __init__(self, data=None):\n",
        "        self.data = data\n",
        "        self.prev = None\n",
        "        self.next = None\n",
        "\n",
        "def reverse_list(head):\n",
        "    if not head or not head.next:\n",
        "        return head\n",
        "\n",
        "    current = head\n",
        "    prev = None\n",
        "\n",
        "    while current:\n",
        "        next_node = current.next\n",
        "\n",
        "        current.next = prev\n",
        "        current.prev = next_node\n",
        "\n",
        "        prev = current\n",
        "        current = next_node\n",
        "\n",
        "    head = prev\n",
        "\n",
        "    return head\n",
        "\n",
        "def print_list(head):\n",
        "    current = head\n",
        "    while current:\n",
        "        print(current.data, end=\" \")\n",
        "        current = current.next\n",
        "    print()\n",
        "\n",
        "node1 = Node(10)\n",
        "node2 = Node(8)\n",
        "node3 = Node(4)\n",
        "node4 = Node(2)\n",
        "node1.next = node2\n",
        "node2.prev = node1\n",
        "node2.next = node3\n",
        "node3.prev = node2\n",
        "node3.next = node4\n",
        "node4.prev = node3\n",
        "\n",
        "print(\"Original Doubly Linked List:\")\n",
        "print_list(node1)\n",
        "\n",
        "reversed_list = reverse_list(node1)\n",
        "\n",
        "print(\"Reversed Doubly Linked List:\")\n",
        "print_list(reversed_list)\n"
      ],
      "metadata": {
        "colab": {
          "base_uri": "https://localhost:8080/"
        },
        "id": "8E27pc5cAXbu",
        "outputId": "47a4d31a-4236-4566-be0e-f23442593739"
      },
      "execution_count": 46,
      "outputs": [
        {
          "output_type": "stream",
          "name": "stdout",
          "text": [
            "Original Doubly Linked List:\n",
            "10 8 4 2 \n",
            "Reversed Doubly Linked List:\n",
            "2 4 8 10 \n"
          ]
        }
      ]
    },
    {
      "cell_type": "markdown",
      "source": [
        "### QUESTION-8"
      ],
      "metadata": {
        "id": "O4FcnpMpHW4m"
      }
    },
    {
      "cell_type": "code",
      "source": [
        "class Node:\n",
        "    def __init__(self, data=None):\n",
        "        self.data = data\n",
        "        self.prev = None\n",
        "        self.next = None\n",
        "\n",
        "def delete_node_position(head, position):\n",
        "    if not head:\n",
        "        return head\n",
        "\n",
        "    if position < 1:\n",
        "        return head\n",
        "\n",
        "    if position == 1:\n",
        "        head = head.next\n",
        "        if head:\n",
        "            head.prev = None\n",
        "        return head\n",
        "\n",
        "    current = head\n",
        "    count = 1\n",
        "\n",
        "    while current and count < position:\n",
        "        current = current.next\n",
        "        count += 1\n",
        "\n",
        "    if not current:\n",
        "        return head\n",
        "\n",
        "    current.prev.next = current.next\n",
        "    if current.next:\n",
        "        current.next.prev = current.prev\n",
        "\n",
        "    current.prev = None\n",
        "    current.next = None\n",
        "\n",
        "    return head\n",
        "\n",
        "def doubly_linked(head):\n",
        "    current = head\n",
        "    while current:\n",
        "        print(current.data, end=\" \")\n",
        "        current = current.next\n",
        "    print()\n",
        "\n",
        "node1 = Node(1)\n",
        "node2 = Node(3)\n",
        "node3 = Node(4)\n",
        "node1.next = node2\n",
        "node2.prev = node1\n",
        "node2.next = node3\n",
        "node3.prev = node2\n",
        "\n",
        "print(\"Original Doubly Linked List 1:\")\n",
        "doubly_linked(node1)\n",
        "\n",
        "new_list = delete_node_position(node1, 3)\n",
        "\n",
        "print(\"Modified Doubly Linked List 2:\")\n",
        "doubly_linked(new_list)\n",
        "\n",
        "\n",
        "\n",
        "node11 = Node(1)\n",
        "node12 = Node(5)\n",
        "node13 = Node(2)\n",
        "node14 = Node(9)\n",
        "node11.next = node12\n",
        "node12.prev = node11\n",
        "node12.next = node13\n",
        "node13.prev = node12\n",
        "node13.next = node14\n",
        "node14.prev = node13\n",
        "print(\"Original Doubly Linked List 2:\")\n",
        "doubly_linked(node11)\n",
        "\n",
        "new_list2 = delete_node_position(node11,1)\n",
        "\n",
        "print(\"Modified Doubly Linked List 2:\")\n",
        "doubly_linked(new_list2)"
      ],
      "metadata": {
        "colab": {
          "base_uri": "https://localhost:8080/"
        },
        "id": "nIpR7xeJCt0q",
        "outputId": "646386f2-0c9b-4ad2-860b-27ccec943e83"
      },
      "execution_count": 53,
      "outputs": [
        {
          "output_type": "stream",
          "name": "stdout",
          "text": [
            "Original Doubly Linked List 1:\n",
            "1 3 4 \n",
            "Modified Doubly Linked List 2:\n",
            "1 3 \n",
            "Original Doubly Linked List 2:\n",
            "1 5 2 9 \n",
            "Modified Doubly Linked List 2:\n",
            "5 2 9 \n"
          ]
        }
      ]
    },
    {
      "cell_type": "code",
      "source": [],
      "metadata": {
        "id": "KQ_JB26IESRx"
      },
      "execution_count": null,
      "outputs": []
    }
  ]
}